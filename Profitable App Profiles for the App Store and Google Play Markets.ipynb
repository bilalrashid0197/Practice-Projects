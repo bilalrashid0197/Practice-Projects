{
 "cells": [
  {
   "cell_type": "markdown",
   "metadata": {},
   "source": [
    "# Profitable Apps Profiles for the App Store and Google Play Markets\n",
    "\n",
    "In this project, I have been given a role of a Data Analyst for a company that builds Andriod and IOS mobile apps. We make our apps available on Google Play and the App Store, and all the apps that we create are free of cost! Since the only way our company makes revenue is off in-apps ads, my goal is to help the developers develop apps that are most likely to attract the most users."
   ]
  },
  {
   "cell_type": "markdown",
   "metadata": {},
   "source": [
    "## Opening our datasets\n"
   ]
  },
  {
   "cell_type": "code",
   "execution_count": null,
   "metadata": {},
   "outputs": [],
   "source": [
    "#Opening IOS Apps Dataset\n",
    "opened_file = open(\"AppleStore.csv\")\n",
    "from csv import reader\n",
    "read_file = reader(opened_file)\n",
    "apps_data_IOS = list(read_file)\n",
    "\n",
    "#Opening Andriod Apps Dataset\n",
    "opened_file_2 = open(\"googleplaystore.csv\")\n",
    "from csv import reader\n",
    "read_file_2 = reader(opened_file_2)\n",
    "apps_data_android = list(read_file_2)"
   ]
  },
  {
   "cell_type": "markdown",
   "metadata": {},
   "source": [
    "## Columns That Could Help Us With Our Analysis and Exploring the Data\n",
    " - For the Google Play dataset we can see that  in total we have 10841 rows and 13 columns. Some columns that could help us with our analysis are: 'Price', 'Category', 'App', 'Genres', 'Type', 'Installs' and 'Reviews'.\n",
    " - For the IOS apps dataset we can see that in total we have 7197 rows and 16 columns. Some columns that might be useful for our data analysis are: 'track_name', 'currency', 'price', 'rating_count_tot', 'rating_count_ver', and 'prime_genre'."
   ]
  },
  {
   "cell_type": "code",
   "execution_count": null,
   "metadata": {
    "scrolled": false
   },
   "outputs": [],
   "source": [
    "#Here we define the function 'explore_data()'\n",
    "def explore_data(dataset, start, end, rows_and_columns=False):\n",
    "    dataset_slice = dataset[start:end]    \n",
    "    for row in dataset_slice:\n",
    "        print(row)\n",
    "        print('\\n') # adds a new (empty) line after each row\n",
    "\n",
    "    if rows_and_columns:\n",
    "        print('Number of rows:', len(dataset[1:]))\n",
    "        print('Number of columns:', len(dataset[0]))\n",
    "\n",
    "#Here we print the header row of the Andriod Apps Dataset and print only the list that is between 2-4 we also print the header-row of the Andriod Dataset\n",
    "print(apps_data_android[0])\n",
    "print('\\n')\n",
    "android_explore = explore_data( dataset = apps_data_android, start = 2, end = 4 , rows_and_columns = True)\n",
    "\n",
    "# To see better becasue the line was on top of each other\n",
    "print('\\n')\n",
    "\n",
    "#Here we print the header row of  the IOS Apps Dataset and print only the list that is between 3-4, we also print the header-row of the IOS Dataset\n",
    "print(apps_data_IOS[0])\n",
    "print(\"\\n\")\n",
    "ios_explore = explore_data( dataset = apps_data_IOS , start = 3 , end = 4, rows_and_columns = True)"
   ]
  },
  {
   "cell_type": "markdown",
   "metadata": {},
   "source": [
    "## Deleting Wrong Data\n",
    " - According to the discussion section there was an error in a certain row of the Google Play dataset. The discussion stated that the error was in row [10473] (without the header row), and when I printed out the row it gave us a rating of 19, but in the Google Play store the maximum rating is always 5, So I then ended up removing it. "
   ]
  },
  {
   "cell_type": "code",
   "execution_count": null,
   "metadata": {
    "scrolled": true
   },
   "outputs": [],
   "source": [
    "# Just to see what was before [10473] and how that would translate, after we used the \"del()\" function\n",
    "print(apps_data_android[10472])\n",
    "print(\"\\n\")\n",
    "\n",
    "#Printed out the list and then removed it becasue there was an error with the \"Rating\"\n",
    "print(apps_data_android[10473])\n",
    "print(\"\\n\")\n",
    "del apps_data_android[10473]\n",
    "\n",
    "#To see what was after [10473] and how that would translate, after we used the \"del()\" function\n",
    "print(apps_data_android[10474])\n",
    "print(\"\\n\")\n",
    "\n",
    "#Printing the length to see how many lists were removed\n",
    "print(len(apps_data_android[1:]))\n"
   ]
  },
  {
   "cell_type": "markdown",
   "metadata": {},
   "source": []
  },
  {
   "cell_type": "markdown",
   "metadata": {},
   "source": [
    "## Removing Diplicate Entries : Part One"
   ]
  },
  {
   "cell_type": "code",
   "execution_count": null,
   "metadata": {
    "scrolled": true
   },
   "outputs": [],
   "source": [
    "# Confriming that the Google Play dataset has mutlpile duplicate entries\n",
    "\n",
    "# Duplicate entries for Instagram, when we run this code we can see that the app Instagram has four duplicate entries\n",
    "duplicate_entry_1 = []\n",
    "for apps in apps_data_android:\n",
    "    name = apps[0]\n",
    "    if name == 'Instagram':\n",
    "        duplicate_entry_1.append(name)\n",
    "print(duplicate_entry_1)\n",
    "\n",
    "print(\"\\n\")\n",
    "\n",
    "# Duplicate entries for Clash of Clans, when we run this code we can see that the app Clash of Clans has four duplicate entries\n",
    "duplicate_entry_2 = []\n",
    "for apps in apps_data_android:\n",
    "    name = apps[0]\n",
    "    if name == \"Clash of Clans\":\n",
    "        duplicate_entry_2.append(name)\n",
    "print(duplicate_entry_2)\n",
    "\n",
    "print(\"\\n\")\n",
    "\n",
    "# Duplicate entries for Amazon Kindle, when we run this code we can see that the app Amazon Kindle has two duplicate entries\n",
    "duplicate_entry_3 = []\n",
    "\n",
    "for apps in apps_data_android:\n",
    "    name = apps[0]\n",
    "    if name == \"Amazon Kindle\":\n",
    "        duplicate_entry_3.append(name)\n",
    "print(duplicate_entry_3)\n"
   ]
  },
  {
   "cell_type": "markdown",
   "metadata": {},
   "source": [
    "We can see in the above code that we assign an empty dictionary outside the for loop and then inform the code that if a specific name is equivalent to a specific string, we must append that name to the empty dictionary outside the for loop for as many times as that name exists. If the name appears more than once after appending the empty dictionary, we know we have a duplicate entry. When you run the code above, you'll notice that Instagram and Clash of Clans both have four entries, indicating that they both have three extra entries, while Amazon Kindle only has two, indicating that it only has one extra entry."
   ]
  },
  {
   "cell_type": "code",
   "execution_count": null,
   "metadata": {},
   "outputs": [],
   "source": [
    "# Counting number of duplicate apps for Google Play store apps\n",
    "\n",
    "duplicate_apps_name = []\n",
    "unique_apps_name = []\n",
    "\n",
    "for apps in apps_data_android:\n",
    "    name = apps[0]\n",
    "    if name in unique_apps_name:\n",
    "        duplicate_apps_name.append(name)\n",
    "    else:\n",
    "        unique_apps_name.append(name)\n",
    "        \n",
    "print(\"There are\", len(duplicate_apps_name), \"duplicate app names!\")\n",
    "print(\"\\n\")\n",
    "print(\"Some of the app names are: \", duplicate_apps_name[:5])\n",
    "print(\"\\n\")\n",
    "print(\"There are\", len(unique_apps_name), \"unique app names!\")\n",
    "print(\"\\n\")\n",
    "print(\"Some of the app names are: \", unique_apps_name[:5])"
   ]
  },
  {
   "cell_type": "markdown",
   "metadata": {},
   "source": [
    "Now let's print out some duplicate entries and go about how we could remove those duplicate entries. We also print out the header row of the Google Play dataset."
   ]
  },
  {
   "cell_type": "code",
   "execution_count": null,
   "metadata": {
    "scrolled": true
   },
   "outputs": [],
   "source": [
    "print(apps_data_android[0])\n",
    "print(\"\\n\")\n",
    "for apps in apps_data_android:\n",
    "    name = apps[0]\n",
    "    if name == \"Instagram\":\n",
    "        print(apps)"
   ]
  },
  {
   "cell_type": "markdown",
   "metadata": {},
   "source": [
    "When we examine the duplicate entries, we can see that the 'Reviews' entry for each duplicate entry changes. Since the entry is constantly changing, we'll keep the one with the most 'Reviews' as the most recent entry and delete all other duplicates since more reviews indicate that the data is more recent!"
   ]
  },
  {
   "cell_type": "markdown",
   "metadata": {},
   "source": [
    "## Removing Duplicate Entries: Part Two"
   ]
  },
  {
   "cell_type": "code",
   "execution_count": null,
   "metadata": {
    "scrolled": true
   },
   "outputs": [],
   "source": [
    "reviews_max = {}\n",
    "\n",
    "for apps in apps_data_android[1:]:\n",
    "    name = apps[0]\n",
    "    n_reviews = (apps[3])\n",
    "    if name in reviews_max and(reviews_max[name]<n_reviews):\n",
    "        reviews_max[name]=n_reviews\n",
    "    elif name not in reviews_max:\n",
    "        reviews_max[name]= n_reviews\n",
    "\n",
    "print(len(reviews_max))"
   ]
  },
  {
   "cell_type": "markdown",
   "metadata": {},
   "source": [
    "We found out that there were approximately about 1,181 apps that were duplicates. We printed out the length to find out how many apps are unique or the apps they have a max rating referring to it to be a unique and a new app in the dataset."
   ]
  },
  {
   "cell_type": "code",
   "execution_count": null,
   "metadata": {},
   "outputs": [],
   "source": [
    "android_clean = []\n",
    "already_added = []\n",
    "\n",
    "for apps in apps_data_android[1:]:\n",
    "    name = apps[0]\n",
    "    n_reviews = apps[3]\n",
    "    if (n_reviews == reviews_max[name]) and name not in already_added:\n",
    "        android_clean.append(apps)\n",
    "        already_added.append(name)\n",
    "print(android_clean)\n",
    "print(already_added)\n",
    "print(len(android_clean))"
   ]
  },
  {
   "cell_type": "markdown",
   "metadata": {},
   "source": [
    "- First of we started off by creating two empty lists and assigned them to the variable 'andriod_clean' and 'already_added' where 'andriod_clean' represents our cleaned dataset and 'already_added' represents our apps names.\n",
    "- After that, we used the for loop and skipped the header row. Next, we assigned the name of the apps to a variable name 'name' and we assigned the number of reviews of all the apps to a variable named 'n_reviews'.\n",
    "- Then we use an if statement and say that if  'n_reviews; is equal to the number of reviews from our dictionary (reviews_max[name]) and if the 'name' is not already in the empty list 'already_added' then append the apps to the empty list 'andriod_clean' and append the name of the apps to the empty list 'already_added'.\n"
   ]
  },
  {
   "cell_type": "markdown",
   "metadata": {},
   "source": [
    "## Removing Non-English Apps: Part One"
   ]
  },
  {
   "cell_type": "markdown",
   "metadata": {},
   "source": [
    "Our company was only interested in developing apps that only use English. To perform our data analysis we need to remove the non-English apps from our dataset so our company could have accurate results on what apps are most profitable."
   ]
  },
  {
   "cell_type": "code",
   "execution_count": null,
   "metadata": {},
   "outputs": [],
   "source": [
    "def is_english(string):\n",
    "    \n",
    "    for word in string:\n",
    "        if ord(word) > 127:\n",
    "            return False\n",
    "    \n",
    "    return True\n",
    "check_word_number_1 = is_english(string = 'Instagram')\n",
    "print(check_word_number_1)\n",
    "print(\"\\n\")\n",
    "check_word_number_2 = is_english(string = '爱奇艺PPS -《欢乐颂2》电视剧热播')\n",
    "print(check_word_number_2)\n",
    "print(\"\\n\")\n",
    "check_word_number_3 = is_english(string = 'Docs To Go™ Free Office Suite')\n",
    "print(check_word_number_3)\n",
    "print(\"\\n\")\n",
    "check_word_number_4 = is_english(string = 'Instachat 😜')\n",
    "print(check_word_number_4)\n",
    "print(\"\\n\")\n",
    "print(ord(\"™\"))\n",
    "print(\"\\n\")\n",
    "print(ord(\"😜\"))\n"
   ]
  },
  {
   "cell_type": "markdown",
   "metadata": {},
   "source": [
    "Above we created a function that helps us find out whether the app is English or not. This function seems to work fine until we get to 😜  and ™. This corresponding encoding number for the elements 😜  and ™ is not in the range of 0 - 127 which is the number for English text according to the American Standard Code for Information Interchange. In the next cell we will fix this!"
   ]
  },
  {
   "cell_type": "markdown",
   "metadata": {},
   "source": [
    "## Removing Non-English Apps: Part Two"
   ]
  },
  {
   "cell_type": "code",
   "execution_count": null,
   "metadata": {},
   "outputs": [],
   "source": [
    "def is_english(string):\n",
    "    non_ascii = 0\n",
    "    \n",
    "    for word in string:\n",
    "        if ord(word) > 127:\n",
    "            non_ascii += 1\n",
    "    \n",
    "    if non_ascii > 3:\n",
    "        return False\n",
    "    else:\n",
    "        return True\n",
    "\n",
    "print(is_english(\"Docs To Go™ Free Office Suite\"))\n",
    "print(is_english(\"Instachat 😜\"))"
   ]
  },
  {
   "cell_type": "markdown",
   "metadata": {},
   "source": [
    "- Above we edited the function in the previous cell to account for things like emojis and the trademark symbol.\n",
    "-  We told the function that if the function has 3 or more characters outside the range of the English language which is 0-127 then only allow up to three characters otherwise return 'False if there are more than three characters.\n",
    "\n"
   ]
  },
  {
   "cell_type": "code",
   "execution_count": null,
   "metadata": {},
   "outputs": [],
   "source": [
    "android_english = []\n",
    "IOS_english = []\n",
    "\n",
    "for apps in android_clean:\n",
    "    name = apps[0]\n",
    "    if is_english(name):\n",
    "        android_english.append(apps)\n",
    "        \n",
    "for apps in apps_data_IOS:\n",
    "    name = apps[1]\n",
    "    if is_english(name):\n",
    "        IOS_english.append(apps)\n",
    "\n",
    "print(explore_data(android_english, 3, 4, True))\n",
    "print('\\n')\n",
    "print(explore_data(IOS_english, 1, 2, True))"
   ]
  },
  {
   "cell_type": "markdown",
   "metadata": {},
   "source": [
    "We used the is_english() function to filter out ever more and more apps and we ended with 9613 Google Play apps and 6183 App store apps."
   ]
  },
  {
   "cell_type": "code",
   "execution_count": null,
   "metadata": {},
   "outputs": [],
   "source": [
    "print(apps_data_android[0])\n",
    "print(\"\\n\")\n",
    "print(apps_data_IOS[0])\n",
    "print(\"\\n\")\n",
    "\n",
    "android_final_data = []\n",
    "IOS_final_data = []\n",
    "\n",
    "for apps in android_english:\n",
    "    price = apps[7]\n",
    "    if price == \"0\":\n",
    "        android_final_data.append(apps)\n",
    "#print(android_final_data)\n",
    "\n",
    "for apps in IOS_english:\n",
    "    price = apps[4]\n",
    "    if price == \"0.0\":\n",
    "        IOS_final_data.append(apps)\n",
    "#print(IOS_final_data)\n",
    "print(\"The length of the Google Play data set is\",len(android_final_data),\".\")\n",
    "print(\"\\n\")\n",
    "print(\"The length of the App store data set is\",len(IOS_final_data),'.')"
   ]
  },
  {
   "cell_type": "markdown",
   "metadata": {},
   "source": [
    "After finishing our data cleaning process we ended up with 8,862 Google Play apps and 3,222 App store app. We started with more than 10,000 Google play apps and more than 7,000 App store apps!"
   ]
  },
  {
   "cell_type": "markdown",
   "metadata": {},
   "source": [
    "## Most Common Apps by Genre: Part One"
   ]
  },
  {
   "cell_type": "markdown",
   "metadata": {},
   "source": [
    "As we mentioned in the introduction, our aim is to determine the kinds of apps that are likely to attract more users because our revenue is highly influenced by the number of people using our apps. Due to this we have created a process that will help us determine if our apps is succesful or not.\n",
    "- First of we will build a minimal Android version of the app and will add it to the Google Play store.\n",
    "- If the app has a good response from the users we will develop the app further.\n",
    "- Lastly after developing the app further, if the apps is still profitable in the next six months we will build an IOS version of the app and will release it on the App store too.\n",
    "\n",
    "Since our end goal is to find apps to add both on the Google Play store and the App store we need to find app profiles that are successful on both markets and we need to analyze them by building frequency tables. We will analyze the 'prime_genre' column of the App store and the 'Genres' and 'Category' columns of the Google Play data set.\n"
   ]
  },
  {
   "cell_type": "markdown",
   "metadata": {},
   "source": [
    "## Most Common Apps by Genre: Part Two"
   ]
  },
  {
   "cell_type": "code",
   "execution_count": null,
   "metadata": {},
   "outputs": [],
   "source": [
    "#Printing out header row\n",
    "print(apps_data_android[0])\n",
    "print(\"\\n\")\n",
    "print(apps_data_IOS[0])\n",
    "print(\"\\n\")"
   ]
  },
  {
   "cell_type": "code",
   "execution_count": null,
   "metadata": {},
   "outputs": [],
   "source": [
    "# Creating a function which allows us to create a frequency dictionary\n",
    "def freq_table(dataset, index):\n",
    "    table = {}\n",
    "    total_number = 0\n",
    "    \n",
    "    for row in dataset:\n",
    "        total_number = total_number +1\n",
    "        value = row[index]\n",
    "        if value in table:\n",
    "            table[value] = table[value]+1\n",
    "        else:\n",
    "            table[value] = 1\n",
    "# Creating the percentage dictionary\n",
    "    table_percentages = {}\n",
    "    for key in table:\n",
    "        percentage = (table[key] / total_number) * 100\n",
    "        table_percentages[key] = percentage \n",
    "    \n",
    "    return table_percentages\n",
    "\n",
    "# Imported the given function\n",
    "def display_table(dataset, index):\n",
    "    table = freq_table(dataset, index)\n",
    "    table_display = []\n",
    "    for key in table:\n",
    "        key_val_as_tuple = (table[key], key)\n",
    "        table_display.append(key_val_as_tuple)\n",
    "        \n",
    "    table_sorted = sorted(table_display, reverse = True)\n",
    "    for entry in table_sorted:\n",
    "        print(entry[1], ':', entry[0]) \n",
    "\n",
    "# Printing the table for IOS Dataset, I printed the 'prime_genre' column\n",
    "\n",
    "print(display_table(dataset= IOS_final_data,index=11))\n",
    "print(\"\\n\")\n",
    "\n",
    "# Printing the table for the Google Play data, I printed the 'Genres' column\n",
    "\n",
    "print(display_table(dataset= android_final_data,index=9))\n",
    "print(\"\\n\")\n",
    "\n",
    "#Printing the table for the Google Play data, I printed the 'Category' column\n",
    "\n",
    "print(display_table(dataset= android_final_data,index=1))"
   ]
  },
  {
   "cell_type": "markdown",
   "metadata": {},
   "source": [
    "Above we built two functions: \n",
    "- One function to generate frequency tables that show percentages \n",
    "- Another function we can use to display the percentages in a descending order \n",
    "On the next screen, we will start out with our analysis!"
   ]
  },
  {
   "cell_type": "markdown",
   "metadata": {},
   "source": [
    "## Most Common Apps by Genre: Part Three"
   ]
  },
  {
   "cell_type": "code",
   "execution_count": null,
   "metadata": {
    "scrolled": true
   },
   "outputs": [],
   "source": [
    "#Printing the table for IOS Dataset, I printed the 'prime_genre' column\n",
    "\n",
    "print(display_table(dataset= IOS_final_data,index=11))"
   ]
  },
  {
   "cell_type": "markdown",
   "metadata": {},
   "source": [
    "- We can see that among the free English applications, in excess of a half (58.16%) are games. Entertainment applications are near 8%, trailed by photograph and video applications, which are near 5%. Just 3.66% of the applications are intended for schooling, trailed by long range interpersonal communication applications which sum for 3.29% of the applications in our dataset.\n",
    "- The overall impression is that App Store (in any event the part containing free English applications) is overwhelmed by applications that are intended for fun (games, amusement, photograph and video, long range informal communication, sports, music, and so forth), while applications with useful purposes (training, shopping, utilities, efficiency, way of life, and so on) are more uncommon. Notwithstanding, the way that fun applications are the most various doesn't likewise suggest that they additionally have the best number of clients — the interest probably won't be equivalent to the offer.\n",
    "- Next we will analyze the Google Play dataset."
   ]
  },
  {
   "cell_type": "code",
   "execution_count": null,
   "metadata": {},
   "outputs": [],
   "source": [
    "#Printing the table for the Google Play data, I printed the 'Category' column\n",
    "\n",
    "print(display_table(dataset= android_final_data,index=1))"
   ]
  },
  {
   "cell_type": "markdown",
   "metadata": {},
   "source": [
    "In the Google Play dataset, we can see that the Family category is the majority of apps followed by Games at 9.69% and then Prodducity apps at 3.89%. Looking more into the dataset when we go visits the Family catrogry we get to know that most of the apps inside the family catorgey are kids games."
   ]
  },
  {
   "cell_type": "markdown",
   "metadata": {},
   "source": [
    "[1]: https://camo.githubusercontent.com/9bf24b9efc3d88a3d55f5c09e314987941f0bab5/68747470733a2f2f73332e616d617a6f6e6177732e636f6d2f64712d636f6e74656e742f3335302f7079316d385f66616d696c792e706e67"
   ]
  },
  {
   "cell_type": "markdown",
   "metadata": {},
   "source": [
    "![Image](https://camo.githubusercontent.com/9bf24b9efc3d88a3d55f5c09e314987941f0bab5/68747470733a2f2f73332e616d617a6f6e6177732e636f6d2f64712d636f6e74656e742f3335302f7079316d385f66616d696c792e706e67)"
   ]
  },
  {
   "cell_type": "markdown",
   "metadata": {},
   "source": [
    "Looking more into the dataset when we go visit the Family class which makes up 19% of the applications, we become acquainted with that a large portion of the applications inside the family classification are children's games. In end from taking a look at the Google Play dataset, we can say that it is more adjusted compared to the App store dataset because one classification isn't ruling any remaining classes."
   ]
  },
  {
   "cell_type": "code",
   "execution_count": null,
   "metadata": {},
   "outputs": [],
   "source": [
    "# Printing the table for the Google Play data, I printed the 'Genres' column\n",
    "\n",
    "print(display_table(dataset= android_final_data,index=9))"
   ]
  },
  {
   "cell_type": "markdown",
   "metadata": {},
   "source": [
    "Looking at the genres column we can't really tell the difference between the Category and Genres column in the Google Play dataset but one thing we can tell for sure is that the Genres column we are looking at has way more data compared to the 'prime_genre' from the App Store dataset and also compared to the Category section from the Google Play dataset. In conclusion, the App Store dataset seems to be dominated by one category while the Google Play dataset is balanced."
   ]
  },
  {
   "cell_type": "markdown",
   "metadata": {},
   "source": [
    "## Most Popular Apps by Genre on the App Store"
   ]
  },
  {
   "cell_type": "code",
   "execution_count": null,
   "metadata": {},
   "outputs": [],
   "source": [
    "#Used the previously built function to generate a frequency table\n",
    "IOS_genres = freq_table(IOS_final_data, -5)\n",
    "\n",
    "#Using a for loop to count average user ratings for each genre\n",
    "for genre in IOS_genres:\n",
    "    total = 0\n",
    "    len_genre = 0\n",
    "    for apps in IOS_final_data:\n",
    "        genre_apps = apps[-5]\n",
    "        if genre_apps == genre:            \n",
    "            number_of_ratings = float(apps[5])\n",
    "            total += number_of_ratings\n",
    "            len_genre += 1\n",
    "#Creating the avg_number_of_ratings variable and printing out the average number of user ratings for a certain genre.\n",
    "    avg_number_of_ratings = total / len_genre\n",
    "    print(genre, ':', avg_number_of_ratings)"
   ]
  },
  {
   "cell_type": "markdown",
   "metadata": {},
   "source": [
    "Looking through the apps that have the highest number of user reviews is for the  Navigation. Let's try opening up the Navigation profile and see what apps are there.\n"
   ]
  },
  {
   "cell_type": "code",
   "execution_count": null,
   "metadata": {},
   "outputs": [],
   "source": [
    "for apps in IOS_final_data:\n",
    "    if apps[-5] == 'Navigation':\n",
    "        print(apps[1], ':', apps[5])"
   ]
  },
  {
   "cell_type": "markdown",
   "metadata": {},
   "source": [
    "Once we open the Navigation profile we see that the apps that heavily influenced the user rating are Google Maps and Waze, the others are nothing compared to Google Maps and Waze."
   ]
  },
  {
   "cell_type": "markdown",
   "metadata": {},
   "source": [
    "## Most Popular Apps by Genre on Google Play"
   ]
  },
  {
   "cell_type": "code",
   "execution_count": null,
   "metadata": {},
   "outputs": [],
   "source": [
    "# Printing header row\n",
    "print(apps_data_android[0])\n",
    "print(\"\\n\")\n",
    "\n",
    "# Creating a frequecny tbale\n",
    "android_categories = freq_table(android_final_data, 1)\n",
    "\n",
    "for category in android_categories:\n",
    "    total = 0\n",
    "    len_category = 0\n",
    "    for apps in android_final_data:\n",
    "        category_app = apps[1]\n",
    "        if category_app == category:            \n",
    "            n_installs = apps[5]\n",
    "            n_installs = n_installs.replace(',', '')\n",
    "            n_installs = n_installs.replace('+', '')\n",
    "            total += float(n_installs)\n",
    "            len_category += 1\n",
    "    avg_number_of_installs = total / len_category\n",
    "    print(category, ':', avg_number_of_installs)\n",
    "print(\"\\n\")\n",
    "    \n",
    "#Printing out the communication apps\n",
    "for apps in android_final_data:\n",
    "    if apps[1] == 'COMMUNICATION' and (apps[5] == '1,000,000,000+'\n",
    "                                      or apps[5] == '500,000,000+'\n",
    "                                      or apps[5] == '100,000,000+'):\n",
    "        print(apps[0], ':', apps[5])"
   ]
  },
  {
   "cell_type": "markdown",
   "metadata": {},
   "source": [
    "Communication applications have the most installs on average: 38,456,119. A few apps with over one billion installs (WhatsApp, Facebook Messenger, Skype, Google Chrome, Gmail, and Hangouts), as well as a few others with over 100 and 500 million installs (WhatsApp, Facebook Messenger, Skype, Google Chrome, Gmail, and Hangouts), heavily skew this amount. This itself doesn't seem like a good app profile to recommend to our developers because it is already heavily populated.\n"
   ]
  },
  {
   "cell_type": "markdown",
   "metadata": {},
   "source": [
    "## More Analysis"
   ]
  },
  {
   "cell_type": "markdown",
   "metadata": {},
   "source": [
    "Let's try exploring more app profiles so we can decide on what apps could most profitable. \n"
   ]
  },
  {
   "cell_type": "code",
   "execution_count": null,
   "metadata": {},
   "outputs": [],
   "source": [
    "# Exploring the Books and Reference Genres\n",
    "for apps in android_final_data:\n",
    "    if apps[1] == 'BOOKS_AND_REFERENCE':\n",
    "        print(apps[0], ':', apps[5])"
   ]
  },
  {
   "cell_type": "markdown",
   "metadata": {},
   "source": [
    "The Books and Reference genre includes a wide range of applications, such as tools for processing and reading ebooks, various library collections, dictionaries, programming or language tutorials, and so on. There appears to be a small number of highly popular apps that continue to distort the average. Next lets exlpore the same category for App Store dataset."
   ]
  },
  {
   "cell_type": "code",
   "execution_count": null,
   "metadata": {},
   "outputs": [],
   "source": [
    "# Exploring the Google Play dataset\n",
    "for apps in android_final_data:\n",
    "    if apps[1] == 'BOOKS_AND_REFERENCE' and (apps[5] == '1,000,000,000+'\n",
    "                                            or apps[5] == '500,000,000+'\n",
    "                                            or apps[5] == '100,000,000+'):\n",
    "        print(apps[0], ':', apps[5])"
   ]
  },
  {
   "cell_type": "markdown",
   "metadata": {},
   "source": [
    "It appears that there are only a few extremely successful applications, indicating that there is still room for growth in this genre/category. \n"
   ]
  },
  {
   "cell_type": "markdown",
   "metadata": {},
   "source": [
    "## Conclusion"
   ]
  },
  {
   "cell_type": "markdown",
   "metadata": {},
   "source": [
    "In this task, we broke down information about the App Store and Google Play applications and determined were to suggest an application profile that can be beneficial for the two stores. I presumed that making an application for the Books and References genre/category in both the App Store and the Google Play store could be beneficial for the two stores. It appears as the applications under the Books and References type are very little and are not profoundly populated showing that there is space for development. One thing to note is that while making the application, our application ought to have something one of a kind, something that other applications don't have, for instance, every day quotes, tests, and a part for book reviews where individuals could voice their opinions."
   ]
  }
 ],
 "metadata": {
  "kernelspec": {
   "display_name": "Python 3",
   "language": "python",
   "name": "python3"
  },
  "language_info": {
   "codemirror_mode": {
    "name": "ipython",
    "version": 3
   },
   "file_extension": ".py",
   "mimetype": "text/x-python",
   "name": "python",
   "nbconvert_exporter": "python",
   "pygments_lexer": "ipython3",
   "version": "3.8.2"
  }
 },
 "nbformat": 4,
 "nbformat_minor": 2
}
